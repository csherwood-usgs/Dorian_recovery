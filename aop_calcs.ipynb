{
 "cells": [
  {
   "cell_type": "markdown",
   "id": "9d2b0280",
   "metadata": {},
   "source": [
    "### area_perimeter\n",
    "Explore relationship between area and perimeter\n",
    "\n",
    "A = pi*r^2\n",
    "C = 2*pi*r"
   ]
  },
  {
   "cell_type": "code",
   "execution_count": 2,
   "id": "f1cddff6",
   "metadata": {},
   "outputs": [],
   "source": [
    "import numpy as np\n",
    "import pandas as pd\n",
    "import matplotlib.pyplot as plt"
   ]
  },
  {
   "cell_type": "code",
   "execution_count": 3,
   "id": "79a5e4e7",
   "metadata": {},
   "outputs": [],
   "source": [
    "A = np.logspace(3, 5, num=20)\n",
    "r = np.sqrt(A/np.pi)\n",
    "C = 2*np.pi*r"
   ]
  },
  {
   "cell_type": "code",
   "execution_count": null,
   "id": "b3f71a80",
   "metadata": {},
   "outputs": [],
   "source": []
  },
  {
   "cell_type": "code",
   "execution_count": 4,
   "id": "30769b43",
   "metadata": {},
   "outputs": [],
   "source": [
    "plt.plot(A,A/C)\n",
    "plt.plot(A,r/2,'--')"
   ]
  },
  {
   "cell_type": "code",
   "execution_count": 5,
   "id": "6832f846",
   "metadata": {},
   "outputs": [],
   "source": [
    "area_csv = 'D:/crs/proj/2023_NCB_recovery/NCB_Pond_Recovery_Metrics_area.csv'\n",
    "perim_csv = 'D:/crs/proj/2023_NCB_recovery/NCB_Pond_Recovery_Metrics_perimeter.csv'\n",
    "dates_csv = 'D:/crs/proj/2023_NCB_recovery/decimal_survey_dates.csv'"
   ]
  },
  {
   "cell_type": "code",
   "execution_count": 6,
   "id": "9f0d6f6c",
   "metadata": {},
   "outputs": [],
   "source": [
    "df_dates = pd.read_csv(dates_csv)\n",
    "dates = np.squeeze(df_dates.values)"
   ]
  },
  {
   "cell_type": "code",
   "execution_count": 7,
   "id": "6f37dbe3",
   "metadata": {},
   "outputs": [],
   "source": [
    "# read in the area file\n",
    "dfa = pd.read_csv(area_csv)\n",
    "area = dfa[dfa['Sub Pond'].isna()].iloc[:,6:18].values\n",
    "nponds, ntimes = np.shape(area)\n",
    "\n",
    "# read in the perimeter file, extract data for main ponds (no sub pond)\n",
    "dfp = pd.read_csv(perim_csv)\n",
    "perim = dfp[dfp['Sub Pond'].isna()].iloc[:,6:18].values\n",
    "print(np.shape(perim))"
   ]
  },
  {
   "cell_type": "code",
   "execution_count": 8,
   "id": "507f2954",
   "metadata": {},
   "outputs": [],
   "source": [
    "rnom = np.sqrt(area/np.pi)\n",
    "AoP = area/perim"
   ]
  },
  {
   "cell_type": "code",
   "execution_count": 9,
   "id": "c2df8993",
   "metadata": {},
   "outputs": [],
   "source": [
    "np.nanmin(AoP)"
   ]
  },
  {
   "cell_type": "code",
   "execution_count": 10,
   "id": "2546516c",
   "metadata": {},
   "outputs": [],
   "source": [
    "AoPnorm = AoP/(0.5*rnom)\n",
    "np.nanmax(AoPnorm)"
   ]
  },
  {
   "cell_type": "code",
   "execution_count": 11,
   "id": "0736af7a",
   "metadata": {},
   "outputs": [],
   "source": [
    "plt.plot(rnom,AoP,'.')"
   ]
  },
  {
   "cell_type": "code",
   "execution_count": 12,
   "id": "153c6192",
   "metadata": {},
   "outputs": [],
   "source": [
    "_ = plt.plot(rnom,AoPnorm,'.')"
   ]
  },
  {
   "cell_type": "code",
   "execution_count": null,
   "id": "4fe424e3",
   "metadata": {},
   "outputs": [],
   "source": []
  }
 ],
 "metadata": {
  "kernelspec": {
   "display_name": "Python 3 (ipykernel)",
   "language": "python",
   "name": "python3"
  },
  "language_info": {
   "codemirror_mode": {
    "name": "ipython",
    "version": 3
   },
   "file_extension": ".py",
   "mimetype": "text/x-python",
   "name": "python",
   "nbconvert_exporter": "python",
   "pygments_lexer": "ipython3",
   "version": "3.11.3"
  }
 },
 "nbformat": 4,
 "nbformat_minor": 5
}
